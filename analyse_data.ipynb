{
 "cells": [
  {
   "cell_type": "code",
   "execution_count": 1,
   "metadata": {},
   "outputs": [],
   "source": [
    "import pandas as pd\n",
    "import dask.dataframe as dd\n",
    "import matplotlib.pyplot as plt\n",
    "import seaborn as sns\n",
    "import numpy as np"
   ]
  },
  {
   "cell_type": "code",
   "execution_count": 2,
   "metadata": {},
   "outputs": [],
   "source": [
    "df = pd.read_csv('data/maindata.csv', dtype={'price_string_unf': 'object'})\n",
    "\n",
    "# Dask is faster for larger datasets but it doesnt show inline output, so i've not used it here\n",
    "daskdf = dd.read_csv('data/maindata.csv', dtype={'price_string_unf': 'object'})"
   ]
  },
  {
   "cell_type": "code",
   "execution_count": 3,
   "metadata": {},
   "outputs": [
    {
     "data": {
      "text/plain": [
       "(13730000, 6)"
      ]
     },
     "execution_count": 3,
     "metadata": {},
     "output_type": "execute_result"
    }
   ],
   "source": [
    "df.shape"
   ]
  },
  {
   "cell_type": "code",
   "execution_count": 4,
   "metadata": {},
   "outputs": [
    {
     "data": {
      "text/html": [
       "<div>\n",
       "<style scoped>\n",
       "    .dataframe tbody tr th:only-of-type {\n",
       "        vertical-align: middle;\n",
       "    }\n",
       "\n",
       "    .dataframe tbody tr th {\n",
       "        vertical-align: top;\n",
       "    }\n",
       "\n",
       "    .dataframe thead th {\n",
       "        text-align: right;\n",
       "    }\n",
       "</style>\n",
       "<table border=\"1\" class=\"dataframe\">\n",
       "  <thead>\n",
       "    <tr style=\"text-align: right;\">\n",
       "      <th></th>\n",
       "      <th>uuid</th>\n",
       "      <th>price_string</th>\n",
       "      <th>price_string_unf</th>\n",
       "      <th>product_type</th>\n",
       "      <th>level_1</th>\n",
       "      <th>category</th>\n",
       "    </tr>\n",
       "  </thead>\n",
       "  <tbody>\n",
       "    <tr>\n",
       "      <th>count</th>\n",
       "      <td>13730000</td>\n",
       "      <td>5510000</td>\n",
       "      <td>310000</td>\n",
       "      <td>13720000</td>\n",
       "      <td>13680000</td>\n",
       "      <td>13720000</td>\n",
       "    </tr>\n",
       "    <tr>\n",
       "      <th>unique</th>\n",
       "      <td>1373</td>\n",
       "      <td>248</td>\n",
       "      <td>26</td>\n",
       "      <td>321</td>\n",
       "      <td>595</td>\n",
       "      <td>13</td>\n",
       "    </tr>\n",
       "    <tr>\n",
       "      <th>top</th>\n",
       "      <td>638744a4-b0ae-4166-8cb6-5c063c862036</td>\n",
       "      <td>$0.00</td>\n",
       "      <td>$6.75</td>\n",
       "      <td>U2NydWJzIGFuZCBjbGVhbmluZyBjbG90aHM</td>\n",
       "      <td>U3dlYXRzaGlydA</td>\n",
       "      <td>Q2xvdGhpbmcgYW5kIEFjY2Vzc29yaWVz</td>\n",
       "    </tr>\n",
       "    <tr>\n",
       "      <th>freq</th>\n",
       "      <td>10000</td>\n",
       "      <td>240000</td>\n",
       "      <td>30000</td>\n",
       "      <td>200000</td>\n",
       "      <td>90000</td>\n",
       "      <td>3910000</td>\n",
       "    </tr>\n",
       "  </tbody>\n",
       "</table>\n",
       "</div>"
      ],
      "text/plain": [
       "                                        uuid price_string price_string_unf  \\\n",
       "count                               13730000      5510000           310000   \n",
       "unique                                  1373          248               26   \n",
       "top     638744a4-b0ae-4166-8cb6-5c063c862036        $0.00            $6.75   \n",
       "freq                                   10000       240000            30000   \n",
       "\n",
       "                               product_type         level_1  \\\n",
       "count                              13720000        13680000   \n",
       "unique                                  321             595   \n",
       "top     U2NydWJzIGFuZCBjbGVhbmluZyBjbG90aHM  U3dlYXRzaGlydA   \n",
       "freq                                 200000           90000   \n",
       "\n",
       "                                category  \n",
       "count                           13720000  \n",
       "unique                                13  \n",
       "top     Q2xvdGhpbmcgYW5kIEFjY2Vzc29yaWVz  \n",
       "freq                             3910000  "
      ]
     },
     "execution_count": 4,
     "metadata": {},
     "output_type": "execute_result"
    }
   ],
   "source": [
    "df.describe()"
   ]
  },
  {
   "cell_type": "markdown",
   "metadata": {},
   "source": [
    "## *Question 1*\n",
    "Products without prices"
   ]
  },
  {
   "cell_type": "code",
   "execution_count": 5,
   "metadata": {},
   "outputs": [
    {
     "data": {
      "text/html": [
       "<div>\n",
       "<style scoped>\n",
       "    .dataframe tbody tr th:only-of-type {\n",
       "        vertical-align: middle;\n",
       "    }\n",
       "\n",
       "    .dataframe tbody tr th {\n",
       "        vertical-align: top;\n",
       "    }\n",
       "\n",
       "    .dataframe thead th {\n",
       "        text-align: right;\n",
       "    }\n",
       "</style>\n",
       "<table border=\"1\" class=\"dataframe\">\n",
       "  <thead>\n",
       "    <tr style=\"text-align: right;\">\n",
       "      <th></th>\n",
       "      <th>uuid</th>\n",
       "      <th>price_string</th>\n",
       "      <th>price_string_unf</th>\n",
       "      <th>product_type</th>\n",
       "      <th>level_1</th>\n",
       "      <th>category</th>\n",
       "    </tr>\n",
       "  </thead>\n",
       "  <tbody>\n",
       "    <tr>\n",
       "      <th>0</th>\n",
       "      <td>638744a4-b0ae-4166-8cb6-5c063c862036</td>\n",
       "      <td>NaN</td>\n",
       "      <td>NaN</td>\n",
       "      <td>TGFwdG9wIENvdmVycy9CYWdz</td>\n",
       "      <td>TGFwdG9wIENhc2U</td>\n",
       "      <td>RWxlY3Ryb25pY3M</td>\n",
       "    </tr>\n",
       "    <tr>\n",
       "      <th>1</th>\n",
       "      <td>ab313969-02cc-48b2-9daf-0054efb70b92</td>\n",
       "      <td>NaN</td>\n",
       "      <td>NaN</td>\n",
       "      <td>QmFraW5nIEN1cHMgYW5kIE1hdHM</td>\n",
       "      <td>QmFraW5nIE1hdHMgLyBCYWtpbmcgZGlzaA</td>\n",
       "      <td>a2l0Y2hpbmcgYW5kIGRpbmluZw</td>\n",
       "    </tr>\n",
       "    <tr>\n",
       "      <th>2</th>\n",
       "      <td>acbd66ff-79f8-467a-91f9-108a45af5626</td>\n",
       "      <td>$19.95</td>\n",
       "      <td>NaN</td>\n",
       "      <td>R3VtbWllcyB2aXRhbWlucyBhbmQgbWluZXJhbHMgZm9yIG...</td>\n",
       "      <td>SW1tdW5pdHkgZ3VtbWllcw</td>\n",
       "      <td>SGVhbHRo</td>\n",
       "    </tr>\n",
       "    <tr>\n",
       "      <th>3</th>\n",
       "      <td>963915d6-b2e3-4098-b242-9410593cf205</td>\n",
       "      <td>$92.00</td>\n",
       "      <td>NaN</td>\n",
       "      <td>U2VydW1z</td>\n",
       "      <td>RmFjZSBTZXJ1bQ</td>\n",
       "      <td>YmVhdXR5IGFuZCBwZXJzb25hbCBjYXJl</td>\n",
       "    </tr>\n",
       "    <tr>\n",
       "      <th>4</th>\n",
       "      <td>b5b68f3c-b1e0-40e5-8ee5-e2f7236c1daf</td>\n",
       "      <td>11.50</td>\n",
       "      <td>NaN</td>\n",
       "      <td>RWF0aW5nIFV0ZW5zaWxzL0N1dGxlcnk</td>\n",
       "      <td>Q2hvcHN0aWNrcw</td>\n",
       "      <td>a2l0Y2hpbmcgYW5kIGRpbmluZw</td>\n",
       "    </tr>\n",
       "  </tbody>\n",
       "</table>\n",
       "</div>"
      ],
      "text/plain": [
       "                                   uuid price_string price_string_unf  \\\n",
       "0  638744a4-b0ae-4166-8cb6-5c063c862036          NaN              NaN   \n",
       "1  ab313969-02cc-48b2-9daf-0054efb70b92          NaN              NaN   \n",
       "2  acbd66ff-79f8-467a-91f9-108a45af5626       $19.95              NaN   \n",
       "3  963915d6-b2e3-4098-b242-9410593cf205       $92.00              NaN   \n",
       "4  b5b68f3c-b1e0-40e5-8ee5-e2f7236c1daf        11.50              NaN   \n",
       "\n",
       "                                        product_type  \\\n",
       "0                           TGFwdG9wIENvdmVycy9CYWdz   \n",
       "1                        QmFraW5nIEN1cHMgYW5kIE1hdHM   \n",
       "2  R3VtbWllcyB2aXRhbWlucyBhbmQgbWluZXJhbHMgZm9yIG...   \n",
       "3                                           U2VydW1z   \n",
       "4                    RWF0aW5nIFV0ZW5zaWxzL0N1dGxlcnk   \n",
       "\n",
       "                              level_1                          category  \n",
       "0                     TGFwdG9wIENhc2U                   RWxlY3Ryb25pY3M  \n",
       "1  QmFraW5nIE1hdHMgLyBCYWtpbmcgZGlzaA        a2l0Y2hpbmcgYW5kIGRpbmluZw  \n",
       "2              SW1tdW5pdHkgZ3VtbWllcw                          SGVhbHRo  \n",
       "3                      RmFjZSBTZXJ1bQ  YmVhdXR5IGFuZCBwZXJzb25hbCBjYXJl  \n",
       "4                      Q2hvcHN0aWNrcw        a2l0Y2hpbmcgYW5kIGRpbmluZw  "
      ]
     },
     "execution_count": 5,
     "metadata": {},
     "output_type": "execute_result"
    }
   ],
   "source": [
    "df.head()"
   ]
  },
  {
   "cell_type": "code",
   "execution_count": 6,
   "metadata": {},
   "outputs": [
    {
     "data": {
      "text/plain": [
       "True     8220000\n",
       "False    5510000\n",
       "Name: price_string, dtype: int64"
      ]
     },
     "execution_count": 6,
     "metadata": {},
     "output_type": "execute_result"
    }
   ],
   "source": [
    "# Faster, just count\n",
    "df['price_string'].isna().value_counts()"
   ]
  },
  {
   "cell_type": "code",
   "execution_count": 7,
   "metadata": {},
   "outputs": [
    {
     "data": {
      "text/plain": [
       "(8220000, 6)"
      ]
     },
     "execution_count": 7,
     "metadata": {},
     "output_type": "execute_result"
    }
   ],
   "source": [
    "# Slower, returns data. This df has all products without price_string\n",
    "noprices = df[df['price_string'].isna()]\n",
    "noprices.shape"
   ]
  },
  {
   "cell_type": "markdown",
   "metadata": {},
   "source": [
    "### There are 8,220,000 products without prices\n",
    "All products without price are stored in noprices."
   ]
  },
  {
   "cell_type": "markdown",
   "metadata": {},
   "source": [
    "## *Question 2*\n",
    "Count of products without prices and with prices in each Product Type, Category,\n",
    "Level 1"
   ]
  },
  {
   "cell_type": "markdown",
   "metadata": {},
   "source": [
    "### Product Type"
   ]
  },
  {
   "cell_type": "code",
   "execution_count": 8,
   "metadata": {},
   "outputs": [],
   "source": [
    "# Number of products which have a price, grouped by product type\n",
    "grpby_prodtype = df.groupby('product_type')"
   ]
  },
  {
   "cell_type": "code",
   "execution_count": 9,
   "metadata": {},
   "outputs": [
    {
     "data": {
      "text/plain": [
       "product_type\n",
       "Q0FUIExJVFRFUg                                  0\n",
       "Q29mZmVlIEJlYW5z                            30000\n",
       "Q29mZmVlIEZpbHRlcnM                             0\n",
       "Q29uZGl0aW9uZXIgSGFpcg                      10000\n",
       "Q29va2llcw                                      0\n",
       "                                            ...  \n",
       "cGV0IEJsYW5rZXQ                             10000\n",
       "cGV0IFN0YWluIGFuZCBvZG9yIGVsaW1pbmF0b3I         0\n",
       "d29tZW5zIE91dGVyd2Vhcg                     130000\n",
       "d29tZW5zIFdhbGxldA                          20000\n",
       "d29tZW5zIHN3ZWF0ZXJz                        30000\n",
       "Name: hasprice, Length: 321, dtype: int64"
      ]
     },
     "execution_count": 9,
     "metadata": {},
     "output_type": "execute_result"
    }
   ],
   "source": [
    "hasprice_prodtype = grpby_prodtype.count()\n",
    "hasprice_prodtype.rename(columns={\"price_string\": \"hasprice\"}, inplace=True)\n",
    "hasprice_prodtype.hasprice"
   ]
  },
  {
   "cell_type": "code",
   "execution_count": 10,
   "metadata": {},
   "outputs": [
    {
     "data": {
      "text/plain": [
       "product_type\n",
       "Q0FUIExJVFRFUg                             30000\n",
       "Q29mZmVlIEJlYW5z                           50000\n",
       "Q29mZmVlIEZpbHRlcnM                        10000\n",
       "Q29uZGl0aW9uZXIgSGFpcg                     20000\n",
       "Q29va2llcw                                 30000\n",
       "                                           ...  \n",
       "cGV0IEJsYW5rZXQ                            10000\n",
       "cGV0IFN0YWluIGFuZCBvZG9yIGVsaW1pbmF0b3I    10000\n",
       "d29tZW5zIE91dGVyd2Vhcg                     20000\n",
       "d29tZW5zIFdhbGxldA                         10000\n",
       "d29tZW5zIHN3ZWF0ZXJz                       90000\n",
       "Length: 321, dtype: int64"
      ]
     },
     "execution_count": 10,
     "metadata": {},
     "output_type": "execute_result"
    }
   ],
   "source": [
    "totalsize_prodtype = grpby_prodtype.size()\n",
    "noprice_prodtype = totalsize_prodtype - hasprice_prodtype.hasprice\n",
    "noprice_prodtype"
   ]
  },
  {
   "cell_type": "markdown",
   "metadata": {},
   "source": [
    "### Category"
   ]
  },
  {
   "cell_type": "code",
   "execution_count": 11,
   "metadata": {},
   "outputs": [],
   "source": [
    "grpby_category = df.groupby('category')"
   ]
  },
  {
   "cell_type": "code",
   "execution_count": 12,
   "metadata": {},
   "outputs": [
    {
     "data": {
      "text/plain": [
       "category\n",
       "Q2xvdGhpbmcgYW5kIEFjY2Vzc29yaWVz       1860000\n",
       "QXJ0IHN1cHBsaWVz                        190000\n",
       "QmFieWNhcmU                              90000\n",
       "RWxlY3Ryb25pY3M                         110000\n",
       "SG91c2Vob2xkIGFuZCBDbGVhbmluZw          700000\n",
       "SGVhbHRo                                290000\n",
       "VG95cyBhbmQgR2FtZXM                     190000\n",
       "VG9vbHMgYW5kIGhvbWUgaW1wcm92ZW1lbnQ     200000\n",
       "YmVhdXR5IGFuZCBwZXJzb25hbCBjYXJl        750000\n",
       "Z3JvY2VyaWVz                            480000\n",
       "a2l0Y2hpbmcgYW5kIGRpbmluZw              340000\n",
       "b2ZmaWNlIHByb2R1Y3Rz                    150000\n",
       "cGV0IHN1cHBsaWVz                        160000\n",
       "Name: hasprice, dtype: int64"
      ]
     },
     "execution_count": 12,
     "metadata": {},
     "output_type": "execute_result"
    }
   ],
   "source": [
    "hasprice_category = df.groupby('category').count()\n",
    "hasprice_category.rename(columns={\"price_string\": \"hasprice\"}, inplace=True)\n",
    "hasprice_category.hasprice"
   ]
  },
  {
   "cell_type": "code",
   "execution_count": 13,
   "metadata": {},
   "outputs": [
    {
     "data": {
      "text/plain": [
       "category\n",
       "Q2xvdGhpbmcgYW5kIEFjY2Vzc29yaWVz       2050000\n",
       "QXJ0IHN1cHBsaWVz                        130000\n",
       "QmFieWNhcmU                             570000\n",
       "RWxlY3Ryb25pY3M                         210000\n",
       "SG91c2Vob2xkIGFuZCBDbGVhbmluZw          870000\n",
       "SGVhbHRo                                700000\n",
       "VG95cyBhbmQgR2FtZXM                     600000\n",
       "VG9vbHMgYW5kIGhvbWUgaW1wcm92ZW1lbnQ     320000\n",
       "YmVhdXR5IGFuZCBwZXJzb25hbCBjYXJl        720000\n",
       "Z3JvY2VyaWVz                           1130000\n",
       "a2l0Y2hpbmcgYW5kIGRpbmluZw              250000\n",
       "b2ZmaWNlIHByb2R1Y3Rz                     80000\n",
       "cGV0IHN1cHBsaWVz                        580000\n",
       "dtype: int64"
      ]
     },
     "execution_count": 13,
     "metadata": {},
     "output_type": "execute_result"
    }
   ],
   "source": [
    "totalsize_category = grpby_category.size()\n",
    "noprice_category =  totalsize_category- hasprice_category.hasprice\n",
    "noprice_category"
   ]
  },
  {
   "cell_type": "markdown",
   "metadata": {},
   "source": [
    "### Level 1\n"
   ]
  },
  {
   "cell_type": "code",
   "execution_count": 14,
   "metadata": {},
   "outputs": [],
   "source": [
    "grpby_level1 = df.groupby('level_1')\n",
    "hasprice_level1 = df.groupby('level_1').count()\n"
   ]
  },
  {
   "cell_type": "code",
   "execution_count": 15,
   "metadata": {},
   "outputs": [
    {
     "data": {
      "text/plain": [
       "level_1\n",
       "MTAgQ3Vw              10000\n",
       "MjAgQ3Vw              10000\n",
       "MjAgUGludHM           10000\n",
       "MzAgQ3Vw              10000\n",
       "MzAtIDM1IFBpbnRz      10000\n",
       "                      ...  \n",
       "d29tZW5zIGJvb3Rz      20000\n",
       "d29tZW5zIGhlZWxz      10000\n",
       "eW9nYSBCbG9ja3M       20000\n",
       "eW9nYSBib2xzdGVycw    10000\n",
       "eW9nYSBzdHJhcHM       30000\n",
       "Name: hasprice, Length: 595, dtype: int64"
      ]
     },
     "execution_count": 15,
     "metadata": {},
     "output_type": "execute_result"
    }
   ],
   "source": [
    "hasprice_level1 = df.groupby('level_1').count()\n",
    "hasprice_level1.rename(columns={\"price_string\": \"hasprice\"}, inplace=True)\n",
    "hasprice_level1.hasprice"
   ]
  },
  {
   "cell_type": "code",
   "execution_count": 16,
   "metadata": {},
   "outputs": [
    {
     "data": {
      "text/plain": [
       "level_1\n",
       "MTAgQ3Vw                  0\n",
       "MjAgQ3Vw                  0\n",
       "MjAgUGludHM           20000\n",
       "MzAgQ3Vw                  0\n",
       "MzAtIDM1IFBpbnRz      10000\n",
       "                      ...  \n",
       "d29tZW5zIGJvb3Rz      20000\n",
       "d29tZW5zIGhlZWxz          0\n",
       "eW9nYSBCbG9ja3M       10000\n",
       "eW9nYSBib2xzdGVycw    10000\n",
       "eW9nYSBzdHJhcHM           0\n",
       "Length: 595, dtype: int64"
      ]
     },
     "execution_count": 16,
     "metadata": {},
     "output_type": "execute_result"
    }
   ],
   "source": [
    "totalsize_level1 = grpby_level1.size()\n",
    "noprice_level1 = totalsize_level1 - hasprice_level1.hasprice\n",
    "noprice_level1"
   ]
  },
  {
   "cell_type": "markdown",
   "metadata": {},
   "source": [
    "## *Question 3*\n",
    "Correct Product Prices in the correct format (eg: $56) wherever possible and\n",
    "separate them into currency and value columns"
   ]
  },
  {
   "cell_type": "code",
   "execution_count": 17,
   "metadata": {},
   "outputs": [],
   "source": [
    "df_with_prices = pd.DataFrame(df['price_string'].dropna())"
   ]
  },
  {
   "cell_type": "code",
   "execution_count": 18,
   "metadata": {},
   "outputs": [],
   "source": [
    "def add_doll(price):\n",
    "    if price[0]!='$':\n",
    "        return '$'+price\n",
    "    return price"
   ]
  },
  {
   "cell_type": "code",
   "execution_count": 19,
   "metadata": {},
   "outputs": [],
   "source": [
    "df_with_prices['price'] = df_with_prices['price_string'].apply(add_doll)"
   ]
  },
  {
   "cell_type": "code",
   "execution_count": 20,
   "metadata": {},
   "outputs": [],
   "source": [
    "regex_flag = df['price_string'].str.contains('\\d+\\$')"
   ]
  },
  {
   "cell_type": "code",
   "execution_count": 21,
   "metadata": {},
   "outputs": [],
   "source": [
    "tempe = regex_flag.fillna(False)"
   ]
  },
  {
   "cell_type": "code",
   "execution_count": 22,
   "metadata": {},
   "outputs": [
    {
     "data": {
      "text/html": [
       "<div>\n",
       "<style scoped>\n",
       "    .dataframe tbody tr th:only-of-type {\n",
       "        vertical-align: middle;\n",
       "    }\n",
       "\n",
       "    .dataframe tbody tr th {\n",
       "        vertical-align: top;\n",
       "    }\n",
       "\n",
       "    .dataframe thead th {\n",
       "        text-align: right;\n",
       "    }\n",
       "</style>\n",
       "<table border=\"1\" class=\"dataframe\">\n",
       "  <thead>\n",
       "    <tr style=\"text-align: right;\">\n",
       "      <th></th>\n",
       "      <th>uuid</th>\n",
       "      <th>price_string</th>\n",
       "      <th>price_string_unf</th>\n",
       "      <th>product_type</th>\n",
       "      <th>level_1</th>\n",
       "      <th>category</th>\n",
       "    </tr>\n",
       "  </thead>\n",
       "  <tbody>\n",
       "  </tbody>\n",
       "</table>\n",
       "</div>"
      ],
      "text/plain": [
       "Empty DataFrame\n",
       "Columns: [uuid, price_string, price_string_unf, product_type, level_1, category]\n",
       "Index: []"
      ]
     },
     "execution_count": 22,
     "metadata": {},
     "output_type": "execute_result"
    }
   ],
   "source": [
    "df[tempe]"
   ]
  },
  {
   "cell_type": "code",
   "execution_count": 23,
   "metadata": {},
   "outputs": [],
   "source": [
    "df_with_prices['value'] = df_with_prices['price'].apply(lambda x: x.replace('$', ''))"
   ]
  },
  {
   "cell_type": "code",
   "execution_count": 24,
   "metadata": {},
   "outputs": [
    {
     "data": {
      "text/html": [
       "<div>\n",
       "<style scoped>\n",
       "    .dataframe tbody tr th:only-of-type {\n",
       "        vertical-align: middle;\n",
       "    }\n",
       "\n",
       "    .dataframe tbody tr th {\n",
       "        vertical-align: top;\n",
       "    }\n",
       "\n",
       "    .dataframe thead th {\n",
       "        text-align: right;\n",
       "    }\n",
       "</style>\n",
       "<table border=\"1\" class=\"dataframe\">\n",
       "  <thead>\n",
       "    <tr style=\"text-align: right;\">\n",
       "      <th></th>\n",
       "      <th>price_string</th>\n",
       "      <th>price</th>\n",
       "      <th>value</th>\n",
       "    </tr>\n",
       "  </thead>\n",
       "  <tbody>\n",
       "    <tr>\n",
       "      <th>2</th>\n",
       "      <td>$19.95</td>\n",
       "      <td>$19.95</td>\n",
       "      <td>19.95</td>\n",
       "    </tr>\n",
       "    <tr>\n",
       "      <th>3</th>\n",
       "      <td>$92.00</td>\n",
       "      <td>$92.00</td>\n",
       "      <td>92.00</td>\n",
       "    </tr>\n",
       "    <tr>\n",
       "      <th>4</th>\n",
       "      <td>11.50</td>\n",
       "      <td>$11.50</td>\n",
       "      <td>11.50</td>\n",
       "    </tr>\n",
       "    <tr>\n",
       "      <th>6</th>\n",
       "      <td>$24.99</td>\n",
       "      <td>$24.99</td>\n",
       "      <td>24.99</td>\n",
       "    </tr>\n",
       "    <tr>\n",
       "      <th>7</th>\n",
       "      <td>$148.00</td>\n",
       "      <td>$148.00</td>\n",
       "      <td>148.00</td>\n",
       "    </tr>\n",
       "    <tr>\n",
       "      <th>...</th>\n",
       "      <td>...</td>\n",
       "      <td>...</td>\n",
       "      <td>...</td>\n",
       "    </tr>\n",
       "    <tr>\n",
       "      <th>13729987</th>\n",
       "      <td>$32.99</td>\n",
       "      <td>$32.99</td>\n",
       "      <td>32.99</td>\n",
       "    </tr>\n",
       "    <tr>\n",
       "      <th>13729989</th>\n",
       "      <td>$34.00</td>\n",
       "      <td>$34.00</td>\n",
       "      <td>34.00</td>\n",
       "    </tr>\n",
       "    <tr>\n",
       "      <th>13729994</th>\n",
       "      <td>$86.00</td>\n",
       "      <td>$86.00</td>\n",
       "      <td>86.00</td>\n",
       "    </tr>\n",
       "    <tr>\n",
       "      <th>13729996</th>\n",
       "      <td>$69.99</td>\n",
       "      <td>$69.99</td>\n",
       "      <td>69.99</td>\n",
       "    </tr>\n",
       "    <tr>\n",
       "      <th>13729999</th>\n",
       "      <td>$55.00</td>\n",
       "      <td>$55.00</td>\n",
       "      <td>55.00</td>\n",
       "    </tr>\n",
       "  </tbody>\n",
       "</table>\n",
       "<p>5510000 rows × 3 columns</p>\n",
       "</div>"
      ],
      "text/plain": [
       "         price_string    price   value\n",
       "2              $19.95   $19.95   19.95\n",
       "3              $92.00   $92.00   92.00\n",
       "4               11.50   $11.50   11.50\n",
       "6              $24.99   $24.99   24.99\n",
       "7             $148.00  $148.00  148.00\n",
       "...               ...      ...     ...\n",
       "13729987       $32.99   $32.99   32.99\n",
       "13729989       $34.00   $34.00   34.00\n",
       "13729994       $86.00   $86.00   86.00\n",
       "13729996       $69.99   $69.99   69.99\n",
       "13729999       $55.00   $55.00   55.00\n",
       "\n",
       "[5510000 rows x 3 columns]"
      ]
     },
     "execution_count": 24,
     "metadata": {},
     "output_type": "execute_result"
    }
   ],
   "source": [
    "df_with_prices\n",
    "\n",
    "#TODO: Do this with main dataset"
   ]
  },
  {
   "cell_type": "markdown",
   "metadata": {},
   "source": [
    "## Question 4\n",
    "List out the categories with average price of product."
   ]
  },
  {
   "cell_type": "code",
   "execution_count": 26,
   "metadata": {},
   "outputs": [],
   "source": []
  },
  {
   "cell_type": "code",
   "execution_count": 28,
   "metadata": {},
   "outputs": [
    {
     "data": {
      "text/html": [
       "<div>\n",
       "<style scoped>\n",
       "    .dataframe tbody tr th:only-of-type {\n",
       "        vertical-align: middle;\n",
       "    }\n",
       "\n",
       "    .dataframe tbody tr th {\n",
       "        vertical-align: top;\n",
       "    }\n",
       "\n",
       "    .dataframe thead th {\n",
       "        text-align: right;\n",
       "    }\n",
       "</style>\n",
       "<table border=\"1\" class=\"dataframe\">\n",
       "  <thead>\n",
       "    <tr style=\"text-align: right;\">\n",
       "      <th></th>\n",
       "      <th>uuid</th>\n",
       "      <th>price_string</th>\n",
       "      <th>price_string_unf</th>\n",
       "      <th>product_type</th>\n",
       "      <th>level_1</th>\n",
       "    </tr>\n",
       "    <tr>\n",
       "      <th>category</th>\n",
       "      <th></th>\n",
       "      <th></th>\n",
       "      <th></th>\n",
       "      <th></th>\n",
       "      <th></th>\n",
       "    </tr>\n",
       "  </thead>\n",
       "  <tbody>\n",
       "    <tr>\n",
       "      <th>Q2xvdGhpbmcgYW5kIEFjY2Vzc29yaWVz</th>\n",
       "      <td>3910000</td>\n",
       "      <td>1860000</td>\n",
       "      <td>120000</td>\n",
       "      <td>3910000</td>\n",
       "      <td>3910000</td>\n",
       "    </tr>\n",
       "    <tr>\n",
       "      <th>QXJ0IHN1cHBsaWVz</th>\n",
       "      <td>320000</td>\n",
       "      <td>190000</td>\n",
       "      <td>0</td>\n",
       "      <td>320000</td>\n",
       "      <td>310000</td>\n",
       "    </tr>\n",
       "    <tr>\n",
       "      <th>QmFieWNhcmU</th>\n",
       "      <td>660000</td>\n",
       "      <td>90000</td>\n",
       "      <td>80000</td>\n",
       "      <td>660000</td>\n",
       "      <td>660000</td>\n",
       "    </tr>\n",
       "    <tr>\n",
       "      <th>RWxlY3Ryb25pY3M</th>\n",
       "      <td>320000</td>\n",
       "      <td>110000</td>\n",
       "      <td>0</td>\n",
       "      <td>320000</td>\n",
       "      <td>320000</td>\n",
       "    </tr>\n",
       "    <tr>\n",
       "      <th>SG91c2Vob2xkIGFuZCBDbGVhbmluZw</th>\n",
       "      <td>1570000</td>\n",
       "      <td>700000</td>\n",
       "      <td>0</td>\n",
       "      <td>1570000</td>\n",
       "      <td>1570000</td>\n",
       "    </tr>\n",
       "    <tr>\n",
       "      <th>SGVhbHRo</th>\n",
       "      <td>990000</td>\n",
       "      <td>290000</td>\n",
       "      <td>30000</td>\n",
       "      <td>990000</td>\n",
       "      <td>990000</td>\n",
       "    </tr>\n",
       "    <tr>\n",
       "      <th>VG95cyBhbmQgR2FtZXM</th>\n",
       "      <td>790000</td>\n",
       "      <td>190000</td>\n",
       "      <td>20000</td>\n",
       "      <td>790000</td>\n",
       "      <td>790000</td>\n",
       "    </tr>\n",
       "    <tr>\n",
       "      <th>VG9vbHMgYW5kIGhvbWUgaW1wcm92ZW1lbnQ</th>\n",
       "      <td>520000</td>\n",
       "      <td>200000</td>\n",
       "      <td>0</td>\n",
       "      <td>520000</td>\n",
       "      <td>500000</td>\n",
       "    </tr>\n",
       "    <tr>\n",
       "      <th>YmVhdXR5IGFuZCBwZXJzb25hbCBjYXJl</th>\n",
       "      <td>1470000</td>\n",
       "      <td>750000</td>\n",
       "      <td>0</td>\n",
       "      <td>1470000</td>\n",
       "      <td>1470000</td>\n",
       "    </tr>\n",
       "    <tr>\n",
       "      <th>Z3JvY2VyaWVz</th>\n",
       "      <td>1610000</td>\n",
       "      <td>480000</td>\n",
       "      <td>30000</td>\n",
       "      <td>1610000</td>\n",
       "      <td>1610000</td>\n",
       "    </tr>\n",
       "    <tr>\n",
       "      <th>a2l0Y2hpbmcgYW5kIGRpbmluZw</th>\n",
       "      <td>590000</td>\n",
       "      <td>340000</td>\n",
       "      <td>0</td>\n",
       "      <td>590000</td>\n",
       "      <td>590000</td>\n",
       "    </tr>\n",
       "    <tr>\n",
       "      <th>b2ZmaWNlIHByb2R1Y3Rz</th>\n",
       "      <td>230000</td>\n",
       "      <td>150000</td>\n",
       "      <td>0</td>\n",
       "      <td>230000</td>\n",
       "      <td>220000</td>\n",
       "    </tr>\n",
       "    <tr>\n",
       "      <th>cGV0IHN1cHBsaWVz</th>\n",
       "      <td>740000</td>\n",
       "      <td>160000</td>\n",
       "      <td>30000</td>\n",
       "      <td>740000</td>\n",
       "      <td>740000</td>\n",
       "    </tr>\n",
       "  </tbody>\n",
       "</table>\n",
       "</div>"
      ],
      "text/plain": [
       "                                        uuid  price_string  price_string_unf  \\\n",
       "category                                                                       \n",
       "Q2xvdGhpbmcgYW5kIEFjY2Vzc29yaWVz     3910000       1860000            120000   \n",
       "QXJ0IHN1cHBsaWVz                      320000        190000                 0   \n",
       "QmFieWNhcmU                           660000         90000             80000   \n",
       "RWxlY3Ryb25pY3M                       320000        110000                 0   \n",
       "SG91c2Vob2xkIGFuZCBDbGVhbmluZw       1570000        700000                 0   \n",
       "SGVhbHRo                              990000        290000             30000   \n",
       "VG95cyBhbmQgR2FtZXM                   790000        190000             20000   \n",
       "VG9vbHMgYW5kIGhvbWUgaW1wcm92ZW1lbnQ   520000        200000                 0   \n",
       "YmVhdXR5IGFuZCBwZXJzb25hbCBjYXJl     1470000        750000                 0   \n",
       "Z3JvY2VyaWVz                         1610000        480000             30000   \n",
       "a2l0Y2hpbmcgYW5kIGRpbmluZw            590000        340000                 0   \n",
       "b2ZmaWNlIHByb2R1Y3Rz                  230000        150000                 0   \n",
       "cGV0IHN1cHBsaWVz                      740000        160000             30000   \n",
       "\n",
       "                                     product_type  level_1  \n",
       "category                                                    \n",
       "Q2xvdGhpbmcgYW5kIEFjY2Vzc29yaWVz          3910000  3910000  \n",
       "QXJ0IHN1cHBsaWVz                           320000   310000  \n",
       "QmFieWNhcmU                                660000   660000  \n",
       "RWxlY3Ryb25pY3M                            320000   320000  \n",
       "SG91c2Vob2xkIGFuZCBDbGVhbmluZw            1570000  1570000  \n",
       "SGVhbHRo                                   990000   990000  \n",
       "VG95cyBhbmQgR2FtZXM                        790000   790000  \n",
       "VG9vbHMgYW5kIGhvbWUgaW1wcm92ZW1lbnQ        520000   500000  \n",
       "YmVhdXR5IGFuZCBwZXJzb25hbCBjYXJl          1470000  1470000  \n",
       "Z3JvY2VyaWVz                              1610000  1610000  \n",
       "a2l0Y2hpbmcgYW5kIGRpbmluZw                 590000   590000  \n",
       "b2ZmaWNlIHByb2R1Y3Rz                       230000   220000  \n",
       "cGV0IHN1cHBsaWVz                           740000   740000  "
      ]
     },
     "execution_count": 28,
     "metadata": {},
     "output_type": "execute_result"
    }
   ],
   "source": []
  }
 ],
 "metadata": {
  "interpreter": {
   "hash": "eee4d3abb82e79a0462123c66a1c264dd48b1bcc93ac942546f5f76001ea26d3"
  },
  "kernelspec": {
   "display_name": "Python 3.9.2 64-bit",
   "language": "python",
   "name": "python3"
  },
  "language_info": {
   "codemirror_mode": {
    "name": "ipython",
    "version": 3
   },
   "file_extension": ".py",
   "mimetype": "text/x-python",
   "name": "python",
   "nbconvert_exporter": "python",
   "pygments_lexer": "ipython3",
   "version": "3.9.2"
  },
  "orig_nbformat": 4
 },
 "nbformat": 4,
 "nbformat_minor": 2
}

{
 "cells": [
  {
   "cell_type": "code",
   "execution_count": 1,
   "metadata": {},
   "outputs": [],
   "source": [
    "import pandas as pd\n",
    "import dask.dataframe as dd\n",
    "import matplotlib.pyplot as plt\n",
    "import seaborn as sns\n",
    "import numpy as np"
   ]
  },
  {
   "cell_type": "code",
   "execution_count": 2,
   "metadata": {},
   "outputs": [],
   "source": [
    "df = pd.read_csv('data/maindata.csv', dtype={'price_string_unf': 'object'})\n",
    "\n",
    "# Dask is faster for larger datasets but it doesnt show inline output, so i've not used it here\n",
    "# daskdf = dd.read_csv('data/maindata.csv', dtype={'price_string_unf': 'object'})"
   ]
  },
  {
   "cell_type": "code",
   "execution_count": 3,
   "metadata": {},
   "outputs": [
    {
     "data": {
      "text/plain": [
       "(13730000, 6)"
      ]
     },
     "execution_count": 3,
     "metadata": {},
     "output_type": "execute_result"
    }
   ],
   "source": [
    "df.shape"
   ]
  },
  {
   "cell_type": "code",
   "execution_count": 4,
   "metadata": {},
   "outputs": [
    {
     "data": {
      "text/html": [
       "<div>\n",
       "<style scoped>\n",
       "    .dataframe tbody tr th:only-of-type {\n",
       "        vertical-align: middle;\n",
       "    }\n",
       "\n",
       "    .dataframe tbody tr th {\n",
       "        vertical-align: top;\n",
       "    }\n",
       "\n",
       "    .dataframe thead th {\n",
       "        text-align: right;\n",
       "    }\n",
       "</style>\n",
       "<table border=\"1\" class=\"dataframe\">\n",
       "  <thead>\n",
       "    <tr style=\"text-align: right;\">\n",
       "      <th></th>\n",
       "      <th>uuid</th>\n",
       "      <th>price_string</th>\n",
       "      <th>price_string_unf</th>\n",
       "      <th>product_type</th>\n",
       "      <th>level_1</th>\n",
       "      <th>category</th>\n",
       "    </tr>\n",
       "  </thead>\n",
       "  <tbody>\n",
       "    <tr>\n",
       "      <th>count</th>\n",
       "      <td>13730000</td>\n",
       "      <td>5510000</td>\n",
       "      <td>310000</td>\n",
       "      <td>13720000</td>\n",
       "      <td>13680000</td>\n",
       "      <td>13720000</td>\n",
       "    </tr>\n",
       "    <tr>\n",
       "      <th>unique</th>\n",
       "      <td>1373</td>\n",
       "      <td>248</td>\n",
       "      <td>26</td>\n",
       "      <td>321</td>\n",
       "      <td>595</td>\n",
       "      <td>13</td>\n",
       "    </tr>\n",
       "    <tr>\n",
       "      <th>top</th>\n",
       "      <td>638744a4-b0ae-4166-8cb6-5c063c862036</td>\n",
       "      <td>$0.00</td>\n",
       "      <td>$6.75</td>\n",
       "      <td>U2NydWJzIGFuZCBjbGVhbmluZyBjbG90aHM</td>\n",
       "      <td>U3dlYXRzaGlydA</td>\n",
       "      <td>Q2xvdGhpbmcgYW5kIEFjY2Vzc29yaWVz</td>\n",
       "    </tr>\n",
       "    <tr>\n",
       "      <th>freq</th>\n",
       "      <td>10000</td>\n",
       "      <td>240000</td>\n",
       "      <td>30000</td>\n",
       "      <td>200000</td>\n",
       "      <td>90000</td>\n",
       "      <td>3910000</td>\n",
       "    </tr>\n",
       "  </tbody>\n",
       "</table>\n",
       "</div>"
      ],
      "text/plain": [
       "                                        uuid price_string price_string_unf  \\\n",
       "count                               13730000      5510000           310000   \n",
       "unique                                  1373          248               26   \n",
       "top     638744a4-b0ae-4166-8cb6-5c063c862036        $0.00            $6.75   \n",
       "freq                                   10000       240000            30000   \n",
       "\n",
       "                               product_type         level_1  \\\n",
       "count                              13720000        13680000   \n",
       "unique                                  321             595   \n",
       "top     U2NydWJzIGFuZCBjbGVhbmluZyBjbG90aHM  U3dlYXRzaGlydA   \n",
       "freq                                 200000           90000   \n",
       "\n",
       "                                category  \n",
       "count                           13720000  \n",
       "unique                                13  \n",
       "top     Q2xvdGhpbmcgYW5kIEFjY2Vzc29yaWVz  \n",
       "freq                             3910000  "
      ]
     },
     "execution_count": 4,
     "metadata": {},
     "output_type": "execute_result"
    }
   ],
   "source": [
    "df.describe()"
   ]
  },
  {
   "cell_type": "markdown",
   "metadata": {},
   "source": [
    "## *Question 1*\n",
    "Products without prices"
   ]
  },
  {
   "cell_type": "code",
   "execution_count": 5,
   "metadata": {},
   "outputs": [
    {
     "data": {
      "text/plain": [
       "True     8220000\n",
       "False    5510000\n",
       "Name: price_string, dtype: int64"
      ]
     },
     "execution_count": 5,
     "metadata": {},
     "output_type": "execute_result"
    }
   ],
   "source": [
    "# Faster, just count. True == null, False == price exists\n",
    "df['price_string'].isna().value_counts()"
   ]
  },
  {
   "cell_type": "code",
   "execution_count": 31,
   "metadata": {},
   "outputs": [
    {
     "data": {
      "text/plain": [
       "Text(0.5, 1.0, 'Number of products with and without prices')"
      ]
     },
     "execution_count": 31,
     "metadata": {},
     "output_type": "execute_result"
    },
    {
     "data": {
      "image/png": "[encoded data removed]",
      "text/plain": [
       "<Figure size 432x288 with 1 Axes>"
      ]
     },
     "metadata": {
      "needs_background": "light"
     },
     "output_type": "display_data"
    }
   ],
   "source": [
    "# One way to graph this data\n",
    "x = df['price_string'].isna().value_counts()\n",
    "\n",
    "sns.barplot(x=['No prices','Have prices'], y=x.values)\n",
    "plt.ylabel('Count')\n",
    "plt.title(\"Number of products with and without prices\")"
   ]
  },
  {
   "cell_type": "code",
   "execution_count": 6,
   "metadata": {},
   "outputs": [
    {
     "data": {
      "text/plain": [
       "(8220000, 6)"
      ]
     },
     "execution_count": 6,
     "metadata": {},
     "output_type": "execute_result"
    }
   ],
   "source": [
    "# Slower, returns data. This df has all products without price_string\n",
    "noprices = df[df['price_string'].isna()]\n",
    "noprices.shape"
   ]
  },
  {
   "cell_type": "markdown",
   "metadata": {},
   "source": [
    "### There are 8,220,000 products without prices\n",
    "All products without price are stored in noprices."
   ]
  },
  {
   "cell_type": "code",
   "execution_count": 7,
   "metadata": {},
   "outputs": [],
   "source": [
    "num_hasprices = df.shape[0] - noprices.shape[0]\n",
    "num_noprices = noprices.shape[0]"
   ]
  },
  {
   "cell_type": "code",
   "execution_count": 30,
   "metadata": {},
   "outputs": [
    {
     "data": {
      "text/plain": [
       "Text(0.5, 1.0, 'Number of products with and without prices')"
      ]
     },
     "execution_count": 30,
     "metadata": {},
     "output_type": "execute_result"
    },
    {
     "data": {
      "image/png": "[encoded data removed]",
      "text/plain": [
       "<Figure size 432x288 with 1 Axes>"
      ]
     },
     "metadata": {
      "needs_background": "light"
     },
     "output_type": "display_data"
    }
   ],
   "source": [
    "# Another way to graph this data\n",
    "sns.barplot(y=[num_hasprices, num_noprices], x=['Have prices', 'No prices'])\n",
    "plt.ylabel('Count')\n",
    "plt.title(\"Number of products with and without prices\")"
   ]
  },
  {
   "cell_type": "markdown",
   "metadata": {},
   "source": [
    "## *Question 2*\n",
    "Count of products without prices and with prices in each Product Type, Category,\n",
    "Level 1"
   ]
  },
  {
   "cell_type": "markdown",
   "metadata": {},
   "source": [
    "### Function used to generate the noprice hasprice dataframes, along with graph, based on input"
   ]
  },
  {
   "cell_type": "code",
   "execution_count": 9,
   "metadata": {},
   "outputs": [],
   "source": [
    "# In the previous commit I had created variables for each subquestion, but I realised its a lot easier like this.\n",
    "# I have ommitted xtick labels in the graphs so that it doesnt become a mess\n",
    "\n",
    "def count_prods(criteria):\n",
    "    grpby_df = df.groupby(criteria)\n",
    "    hasprice = grpby_df.count()\n",
    "    hasprice.rename(columns={\"price_string\": \"hasprice\"}, inplace=True)\n",
    "    totalsize = grpby_df.size()\n",
    "    noprice = totalsize - hasprice.hasprice\n",
    "    total_price_df = pd.DataFrame(grpby_df.groups.keys(), columns=[criteria])\n",
    "    total_price_df.set_index([criteria])\n",
    "    total_price_df['hasprice'] = hasprice.hasprice.values\n",
    "    total_price_df['noprice'] = noprice.values\n",
    "    total_price_df.sort_values('hasprice', inplace=True)\n",
    "    total_price_df.plot(kind='bar', stacked=True)\n",
    "    plt.xticks(rotation=90)\n",
    "    plt.xlabel(criteria)\n",
    "    plt.ylabel('Count')\n",
    "    plt.tick_params(axis='x', bottom=False, labelbottom=False)\n",
    "    plt.show()\n",
    "    return noprice, hasprice.hasprice"
   ]
  },
  {
   "cell_type": "markdown",
   "metadata": {},
   "source": [
    "### Product Type"
   ]
  },
  {
   "cell_type": "code",
   "execution_count": 10,
   "metadata": {},
   "outputs": [
    {
     "data": {
      "image/png": "[encoded data removed]",
      "text/plain": [
       "<Figure size 432x288 with 1 Axes>"
      ]
     },
     "metadata": {
      "needs_background": "light"
     },
     "output_type": "display_data"
    }
   ],
   "source": [
    "noprice_prodtype,hasprice_prodtype = count_prods('product_type')"
   ]
  },
  {
   "cell_type": "code",
   "execution_count": 11,
   "metadata": {},
   "outputs": [
    {
     "name": "stdout",
     "output_type": "stream",
     "text": [
      "\n",
      "Count of products with no prices for each product type\n",
      "\n",
      "product_type\n",
      "Q0FUIExJVFRFUg            30000\n",
      "Q29mZmVlIEJlYW5z          50000\n",
      "Q29mZmVlIEZpbHRlcnM       10000\n",
      "Q29uZGl0aW9uZXIgSGFpcg    20000\n",
      "Q29va2llcw                30000\n",
      "dtype: int64\n",
      "\n",
      "Count of products having prices for each product type\n",
      "\n",
      "product_type\n",
      "Q0FUIExJVFRFUg                0\n",
      "Q29mZmVlIEJlYW5z          30000\n",
      "Q29mZmVlIEZpbHRlcnM           0\n",
      "Q29uZGl0aW9uZXIgSGFpcg    10000\n",
      "Q29va2llcw                    0\n",
      "Name: hasprice, dtype: int64\n"
     ]
    }
   ],
   "source": [
    "# For all subquestions I've only returned the first 5 elements of the dataframes. \n",
    "# All values are available in noprice and hasprice dataframes\n",
    "\n",
    "print(\"\\nCount of products with no prices for each product type\\n\")\n",
    "print(noprice_prodtype.head())\n",
    "print(\"\\nCount of products having prices for each product type\\n\")\n",
    "print(hasprice_prodtype.head())"
   ]
  },
  {
   "cell_type": "markdown",
   "metadata": {},
   "source": [
    "### Category"
   ]
  },
  {
   "cell_type": "code",
   "execution_count": 12,
   "metadata": {},
   "outputs": [
    {
     "data": {
      "image/png": "[encoded data removed]",
      "text/plain": [
       "<Figure size 432x288 with 1 Axes>"
      ]
     },
     "metadata": {
      "needs_background": "light"
     },
     "output_type": "display_data"
    }
   ],
   "source": [
    "noprice_category, hasprice_category = count_prods('category')\n"
   ]
  },
  {
   "cell_type": "code",
   "execution_count": 13,
   "metadata": {},
   "outputs": [
    {
     "name": "stdout",
     "output_type": "stream",
     "text": [
      "\n",
      "Count of products with no prices for each category\n",
      "\n",
      "category\n",
      "Q2xvdGhpbmcgYW5kIEFjY2Vzc29yaWVz    2050000\n",
      "QXJ0IHN1cHBsaWVz                     130000\n",
      "QmFieWNhcmU                          570000\n",
      "RWxlY3Ryb25pY3M                      210000\n",
      "SG91c2Vob2xkIGFuZCBDbGVhbmluZw       870000\n",
      "dtype: int64\n",
      "\n",
      "Count of products having  prices for each category\n",
      "\n",
      "category\n",
      "Q2xvdGhpbmcgYW5kIEFjY2Vzc29yaWVz    1860000\n",
      "QXJ0IHN1cHBsaWVz                     190000\n",
      "QmFieWNhcmU                           90000\n",
      "RWxlY3Ryb25pY3M                      110000\n",
      "SG91c2Vob2xkIGFuZCBDbGVhbmluZw       700000\n",
      "Name: hasprice, dtype: int64\n"
     ]
    }
   ],
   "source": [
    "print(\"\\nCount of products with no prices for each category\\n\")\n",
    "print(noprice_category.head())\n",
    "print(\"\\nCount of products having  prices for each category\\n\")\n",
    "print(hasprice_category.head())"
   ]
  },
  {
   "cell_type": "markdown",
   "metadata": {},
   "source": [
    "### Level 1\n"
   ]
  },
  {
   "cell_type": "code",
   "execution_count": 14,
   "metadata": {},
   "outputs": [
    {
     "data": {
      "image/png": "[encoded data removed]",
      "text/plain": [
       "<Figure size 432x288 with 1 Axes>"
      ]
     },
     "metadata": {
      "needs_background": "light"
     },
     "output_type": "display_data"
    }
   ],
   "source": [
    "noprice_level1, hasprice_level1 = count_prods('level_1')\n"
   ]
  },
  {
   "cell_type": "code",
   "execution_count": 15,
   "metadata": {},
   "outputs": [
    {
     "name": "stdout",
     "output_type": "stream",
     "text": [
      "\n",
      "Count of products with no prices for each level_1\n",
      "\n",
      "level_1\n",
      "MTAgQ3Vw                0\n",
      "MjAgQ3Vw                0\n",
      "MjAgUGludHM         20000\n",
      "MzAgQ3Vw                0\n",
      "MzAtIDM1IFBpbnRz    10000\n",
      "dtype: int64\n",
      "\n",
      "Count of products having prices for each level_1\n",
      "\n",
      "level_1\n",
      "MTAgQ3Vw            10000\n",
      "MjAgQ3Vw            10000\n",
      "MjAgUGludHM         10000\n",
      "MzAgQ3Vw            10000\n",
      "MzAtIDM1IFBpbnRz    10000\n",
      "Name: hasprice, dtype: int64\n"
     ]
    }
   ],
   "source": [
    "print(\"\\nCount of products with no prices for each level_1\\n\")\n",
    "print(noprice_level1.head())\n",
    "print(\"\\nCount of products having prices for each level_1\\n\")\n",
    "print(hasprice_level1.head())"
   ]
  },
  {
   "cell_type": "markdown",
   "metadata": {},
   "source": [
    "## *Question 3*\n",
    "Correct Product Prices in the correct format (eg: $56) wherever possible and\n",
    "separate them into currency and value columns"
   ]
  },
  {
   "cell_type": "code",
   "execution_count": 16,
   "metadata": {},
   "outputs": [
    {
     "data": {
      "text/html": [
       "<div>\n",
       "<style scoped>\n",
       "    .dataframe tbody tr th:only-of-type {\n",
       "        vertical-align: middle;\n",
       "    }\n",
       "\n",
       "    .dataframe tbody tr th {\n",
       "        vertical-align: top;\n",
       "    }\n",
       "\n",
       "    .dataframe thead th {\n",
       "        text-align: right;\n",
       "    }\n",
       "</style>\n",
       "<table border=\"1\" class=\"dataframe\">\n",
       "  <thead>\n",
       "    <tr style=\"text-align: right;\">\n",
       "      <th></th>\n",
       "      <th>uuid</th>\n",
       "      <th>price_string</th>\n",
       "      <th>price_string_unf</th>\n",
       "      <th>product_type</th>\n",
       "      <th>level_1</th>\n",
       "      <th>category</th>\n",
       "    </tr>\n",
       "  </thead>\n",
       "  <tbody>\n",
       "  </tbody>\n",
       "</table>\n",
       "</div>"
      ],
      "text/plain": [
       "Empty DataFrame\n",
       "Columns: [uuid, price_string, price_string_unf, product_type, level_1, category]\n",
       "Index: []"
      ]
     },
     "execution_count": 16,
     "metadata": {},
     "output_type": "execute_result"
    }
   ],
   "source": [
    "# Condition that checks if a value has a $ anywhere except the start\n",
    "regex_flag = df['price_string'].str.contains('\\d+\\$\\d*')\n",
    "\n",
    "# if there isnt a $, the flag stores NaN. This replaces NaN with false so we can use it as a condition\n",
    "tempe = regex_flag.fillna(False)\n",
    "\n",
    "# Returns all rows where $ is present apart from the [0]th position.\n",
    "# No rows are returned, which means all rows are either in $ddd or ddd format\n",
    "# This was just to see if my replacement logic was valid for the data or if there were outliers\n",
    "df[tempe]"
   ]
  },
  {
   "cell_type": "code",
   "execution_count": 17,
   "metadata": {},
   "outputs": [],
   "source": [
    "# function that converts non-null string values to a $ddd format (d is a digit). If null, returns NaN\n",
    "\n",
    "def add_doll(price):\n",
    "    if pd.isnull(price):\n",
    "        return np.nan\n",
    "    else:\n",
    "        if str(price)[0]!='$':\n",
    "            return '$'+str(price)\n",
    "        return str(price)"
   ]
  },
  {
   "cell_type": "code",
   "execution_count": 18,
   "metadata": {},
   "outputs": [],
   "source": [
    "value_df = df.copy()\n",
    "\n",
    "# Here we drop all NaN values in the price column, but can comment this out if needed\n",
    "\n",
    "value_df = value_df[value_df['price_string'].notna()]"
   ]
  },
  {
   "cell_type": "code",
   "execution_count": 19,
   "metadata": {},
   "outputs": [],
   "source": [
    "value_df['currency'] = value_df['price_string'].apply(add_doll)\n",
    "value_df['value'] = value_df['currency'].apply(lambda x: float(str(x).replace('$', '')))"
   ]
  },
  {
   "cell_type": "code",
   "execution_count": 20,
   "metadata": {},
   "outputs": [
    {
     "data": {
      "text/html": [
       "<div>\n",
       "<style scoped>\n",
       "    .dataframe tbody tr th:only-of-type {\n",
       "        vertical-align: middle;\n",
       "    }\n",
       "\n",
       "    .dataframe tbody tr th {\n",
       "        vertical-align: top;\n",
       "    }\n",
       "\n",
       "    .dataframe thead th {\n",
       "        text-align: right;\n",
       "    }\n",
       "</style>\n",
       "<table border=\"1\" class=\"dataframe\">\n",
       "  <thead>\n",
       "    <tr style=\"text-align: right;\">\n",
       "      <th></th>\n",
       "      <th>uuid</th>\n",
       "      <th>price_string</th>\n",
       "      <th>price_string_unf</th>\n",
       "      <th>product_type</th>\n",
       "      <th>level_1</th>\n",
       "      <th>category</th>\n",
       "      <th>currency</th>\n",
       "      <th>value</th>\n",
       "    </tr>\n",
       "  </thead>\n",
       "  <tbody>\n",
       "    <tr>\n",
       "      <th>2</th>\n",
       "      <td>acbd66ff-79f8-467a-91f9-108a45af5626</td>\n",
       "      <td>$19.95</td>\n",
       "      <td>NaN</td>\n",
       "      <td>R3VtbWllcyB2aXRhbWlucyBhbmQgbWluZXJhbHMgZm9yIG...</td>\n",
       "      <td>SW1tdW5pdHkgZ3VtbWllcw</td>\n",
       "      <td>SGVhbHRo</td>\n",
       "      <td>$19.95</td>\n",
       "      <td>19.95</td>\n",
       "    </tr>\n",
       "    <tr>\n",
       "      <th>3</th>\n",
       "      <td>963915d6-b2e3-4098-b242-9410593cf205</td>\n",
       "      <td>$92.00</td>\n",
       "      <td>NaN</td>\n",
       "      <td>U2VydW1z</td>\n",
       "      <td>RmFjZSBTZXJ1bQ</td>\n",
       "      <td>YmVhdXR5IGFuZCBwZXJzb25hbCBjYXJl</td>\n",
       "      <td>$92.00</td>\n",
       "      <td>92.00</td>\n",
       "    </tr>\n",
       "    <tr>\n",
       "      <th>4</th>\n",
       "      <td>b5b68f3c-b1e0-40e5-8ee5-e2f7236c1daf</td>\n",
       "      <td>11.50</td>\n",
       "      <td>NaN</td>\n",
       "      <td>RWF0aW5nIFV0ZW5zaWxzL0N1dGxlcnk</td>\n",
       "      <td>Q2hvcHN0aWNrcw</td>\n",
       "      <td>a2l0Y2hpbmcgYW5kIGRpbmluZw</td>\n",
       "      <td>$11.50</td>\n",
       "      <td>11.50</td>\n",
       "    </tr>\n",
       "    <tr>\n",
       "      <th>6</th>\n",
       "      <td>9599f1a9-d406-43eb-89f5-9b1c0af1ac9a</td>\n",
       "      <td>$24.99</td>\n",
       "      <td>NaN</td>\n",
       "      <td>TW9wcyBhbmQgYnJvb21z</td>\n",
       "      <td>TW9w</td>\n",
       "      <td>SG91c2Vob2xkIGFuZCBDbGVhbmluZw</td>\n",
       "      <td>$24.99</td>\n",
       "      <td>24.99</td>\n",
       "    </tr>\n",
       "    <tr>\n",
       "      <th>7</th>\n",
       "      <td>35799087-f6f4-4ca2-abfe-cbb5c27d2f1a</td>\n",
       "      <td>$148.00</td>\n",
       "      <td>NaN</td>\n",
       "      <td>V29tZW5zIFBhbnRz</td>\n",
       "      <td>V29tZW5zIFJlZ3VsYXIvQ2FzdWFsIFBhbnRz</td>\n",
       "      <td>Q2xvdGhpbmcgYW5kIEFjY2Vzc29yaWVz</td>\n",
       "      <td>$148.00</td>\n",
       "      <td>148.00</td>\n",
       "    </tr>\n",
       "  </tbody>\n",
       "</table>\n",
       "</div>"
      ],
      "text/plain": [
       "                                   uuid price_string price_string_unf  \\\n",
       "2  acbd66ff-79f8-467a-91f9-108a45af5626       $19.95              NaN   \n",
       "3  963915d6-b2e3-4098-b242-9410593cf205       $92.00              NaN   \n",
       "4  b5b68f3c-b1e0-40e5-8ee5-e2f7236c1daf        11.50              NaN   \n",
       "6  9599f1a9-d406-43eb-89f5-9b1c0af1ac9a       $24.99              NaN   \n",
       "7  35799087-f6f4-4ca2-abfe-cbb5c27d2f1a      $148.00              NaN   \n",
       "\n",
       "                                        product_type  \\\n",
       "2  R3VtbWllcyB2aXRhbWlucyBhbmQgbWluZXJhbHMgZm9yIG...   \n",
       "3                                           U2VydW1z   \n",
       "4                    RWF0aW5nIFV0ZW5zaWxzL0N1dGxlcnk   \n",
       "6                               TW9wcyBhbmQgYnJvb21z   \n",
       "7                                   V29tZW5zIFBhbnRz   \n",
       "\n",
       "                                level_1                          category  \\\n",
       "2                SW1tdW5pdHkgZ3VtbWllcw                          SGVhbHRo   \n",
       "3                        RmFjZSBTZXJ1bQ  YmVhdXR5IGFuZCBwZXJzb25hbCBjYXJl   \n",
       "4                        Q2hvcHN0aWNrcw        a2l0Y2hpbmcgYW5kIGRpbmluZw   \n",
       "6                                  TW9w    SG91c2Vob2xkIGFuZCBDbGVhbmluZw   \n",
       "7  V29tZW5zIFJlZ3VsYXIvQ2FzdWFsIFBhbnRz  Q2xvdGhpbmcgYW5kIEFjY2Vzc29yaWVz   \n",
       "\n",
       "  currency   value  \n",
       "2   $19.95   19.95  \n",
       "3   $92.00   92.00  \n",
       "4   $11.50   11.50  \n",
       "6   $24.99   24.99  \n",
       "7  $148.00  148.00  "
      ]
     },
     "execution_count": 20,
     "metadata": {},
     "output_type": "execute_result"
    }
   ],
   "source": [
    "# This is the original dataframe with columns for currency and value, as per the given instructions\n",
    "value_df.head()"
   ]
  },
  {
   "cell_type": "markdown",
   "metadata": {},
   "source": [
    "## Question 4\n",
    "List out the categories with average price of product."
   ]
  },
  {
   "cell_type": "code",
   "execution_count": 21,
   "metadata": {},
   "outputs": [
    {
     "data": {
      "text/html": [
       "<div>\n",
       "<style scoped>\n",
       "    .dataframe tbody tr th:only-of-type {\n",
       "        vertical-align: middle;\n",
       "    }\n",
       "\n",
       "    .dataframe tbody tr th {\n",
       "        vertical-align: top;\n",
       "    }\n",
       "\n",
       "    .dataframe thead th {\n",
       "        text-align: right;\n",
       "    }\n",
       "</style>\n",
       "<table border=\"1\" class=\"dataframe\">\n",
       "  <thead>\n",
       "    <tr style=\"text-align: right;\">\n",
       "      <th></th>\n",
       "      <th>category</th>\n",
       "      <th>value</th>\n",
       "    </tr>\n",
       "  </thead>\n",
       "  <tbody>\n",
       "    <tr>\n",
       "      <th>2</th>\n",
       "      <td>SGVhbHRo</td>\n",
       "      <td>19.95</td>\n",
       "    </tr>\n",
       "    <tr>\n",
       "      <th>3</th>\n",
       "      <td>YmVhdXR5IGFuZCBwZXJzb25hbCBjYXJl</td>\n",
       "      <td>92.00</td>\n",
       "    </tr>\n",
       "    <tr>\n",
       "      <th>4</th>\n",
       "      <td>a2l0Y2hpbmcgYW5kIGRpbmluZw</td>\n",
       "      <td>11.50</td>\n",
       "    </tr>\n",
       "    <tr>\n",
       "      <th>6</th>\n",
       "      <td>SG91c2Vob2xkIGFuZCBDbGVhbmluZw</td>\n",
       "      <td>24.99</td>\n",
       "    </tr>\n",
       "    <tr>\n",
       "      <th>7</th>\n",
       "      <td>Q2xvdGhpbmcgYW5kIEFjY2Vzc29yaWVz</td>\n",
       "      <td>148.00</td>\n",
       "    </tr>\n",
       "  </tbody>\n",
       "</table>\n",
       "</div>"
      ],
      "text/plain": [
       "                           category   value\n",
       "2                          SGVhbHRo   19.95\n",
       "3  YmVhdXR5IGFuZCBwZXJzb25hbCBjYXJl   92.00\n",
       "4        a2l0Y2hpbmcgYW5kIGRpbmluZw   11.50\n",
       "6    SG91c2Vob2xkIGFuZCBDbGVhbmluZw   24.99\n",
       "7  Q2xvdGhpbmcgYW5kIEFjY2Vzc29yaWVz  148.00"
      ]
     },
     "execution_count": 21,
     "metadata": {},
     "output_type": "execute_result"
    }
   ],
   "source": [
    "# Create a dataframe that has only categories and price values\n",
    "category_df = value_df[['category', 'value']].copy()\n",
    "category_df.head()\n"
   ]
  },
  {
   "cell_type": "code",
   "execution_count": 22,
   "metadata": {},
   "outputs": [],
   "source": [
    "value_grpby_category = category_df.groupby('category')\n",
    "avg_price_by_category = value_grpby_category.mean()\n",
    "avg_price_by_category.rename(columns={'value': 'average_price'}, inplace=True)"
   ]
  },
  {
   "cell_type": "code",
   "execution_count": 23,
   "metadata": {},
   "outputs": [
    {
     "data": {
      "text/html": [
       "<div>\n",
       "<style scoped>\n",
       "    .dataframe tbody tr th:only-of-type {\n",
       "        vertical-align: middle;\n",
       "    }\n",
       "\n",
       "    .dataframe tbody tr th {\n",
       "        vertical-align: top;\n",
       "    }\n",
       "\n",
       "    .dataframe thead th {\n",
       "        text-align: right;\n",
       "    }\n",
       "</style>\n",
       "<table border=\"1\" class=\"dataframe\">\n",
       "  <thead>\n",
       "    <tr style=\"text-align: right;\">\n",
       "      <th></th>\n",
       "      <th>average_price</th>\n",
       "    </tr>\n",
       "    <tr>\n",
       "      <th>category</th>\n",
       "      <th></th>\n",
       "    </tr>\n",
       "  </thead>\n",
       "  <tbody>\n",
       "    <tr>\n",
       "      <th>Q2xvdGhpbmcgYW5kIEFjY2Vzc29yaWVz</th>\n",
       "      <td>125.413871</td>\n",
       "    </tr>\n",
       "    <tr>\n",
       "      <th>QXJ0IHN1cHBsaWVz</th>\n",
       "      <td>19.471053</td>\n",
       "    </tr>\n",
       "    <tr>\n",
       "      <th>QmFieWNhcmU</th>\n",
       "      <td>163.688889</td>\n",
       "    </tr>\n",
       "    <tr>\n",
       "      <th>RWxlY3Ryb25pY3M</th>\n",
       "      <td>60.258182</td>\n",
       "    </tr>\n",
       "    <tr>\n",
       "      <th>SG91c2Vob2xkIGFuZCBDbGVhbmluZw</th>\n",
       "      <td>76.199000</td>\n",
       "    </tr>\n",
       "    <tr>\n",
       "      <th>SGVhbHRo</th>\n",
       "      <td>32.557586</td>\n",
       "    </tr>\n",
       "    <tr>\n",
       "      <th>VG95cyBhbmQgR2FtZXM</th>\n",
       "      <td>32.448947</td>\n",
       "    </tr>\n",
       "    <tr>\n",
       "      <th>VG9vbHMgYW5kIGhvbWUgaW1wcm92ZW1lbnQ</th>\n",
       "      <td>82.223500</td>\n",
       "    </tr>\n",
       "    <tr>\n",
       "      <th>YmVhdXR5IGFuZCBwZXJzb25hbCBjYXJl</th>\n",
       "      <td>34.745067</td>\n",
       "    </tr>\n",
       "    <tr>\n",
       "      <th>Z3JvY2VyaWVz</th>\n",
       "      <td>10.541667</td>\n",
       "    </tr>\n",
       "    <tr>\n",
       "      <th>a2l0Y2hpbmcgYW5kIGRpbmluZw</th>\n",
       "      <td>16.703235</td>\n",
       "    </tr>\n",
       "    <tr>\n",
       "      <th>b2ZmaWNlIHByb2R1Y3Rz</th>\n",
       "      <td>20.480000</td>\n",
       "    </tr>\n",
       "    <tr>\n",
       "      <th>cGV0IHN1cHBsaWVz</th>\n",
       "      <td>14.181875</td>\n",
       "    </tr>\n",
       "  </tbody>\n",
       "</table>\n",
       "</div>"
      ],
      "text/plain": [
       "                                     average_price\n",
       "category                                          \n",
       "Q2xvdGhpbmcgYW5kIEFjY2Vzc29yaWVz        125.413871\n",
       "QXJ0IHN1cHBsaWVz                         19.471053\n",
       "QmFieWNhcmU                             163.688889\n",
       "RWxlY3Ryb25pY3M                          60.258182\n",
       "SG91c2Vob2xkIGFuZCBDbGVhbmluZw           76.199000\n",
       "SGVhbHRo                                 32.557586\n",
       "VG95cyBhbmQgR2FtZXM                      32.448947\n",
       "VG9vbHMgYW5kIGhvbWUgaW1wcm92ZW1lbnQ      82.223500\n",
       "YmVhdXR5IGFuZCBwZXJzb25hbCBjYXJl         34.745067\n",
       "Z3JvY2VyaWVz                             10.541667\n",
       "a2l0Y2hpbmcgYW5kIGRpbmluZw               16.703235\n",
       "b2ZmaWNlIHByb2R1Y3Rz                     20.480000\n",
       "cGV0IHN1cHBsaWVz                         14.181875"
      ]
     },
     "execution_count": 23,
     "metadata": {},
     "output_type": "execute_result"
    }
   ],
   "source": [
    "# Dataframe with average price of products by category\n",
    "avg_price_by_category"
   ]
  },
  {
   "cell_type": "code",
   "execution_count": 24,
   "metadata": {},
   "outputs": [
    {
     "data": {
      "image/png": "[encoded data removed]",
      "text/plain": [
       "<Figure size 432x288 with 1 Axes>"
      ]
     },
     "metadata": {
      "needs_background": "light"
     },
     "output_type": "display_data"
    }
   ],
   "source": [
    "# Plotting the avg price per category. Truncated category name to 10 letters to maintain readability. \n",
    "# (not like the category names are readable in any case)\n",
    "\n",
    "sns.barplot(x=avg_price_by_category.index.str.slice(0,10),y=avg_price_by_category.average_price)\n",
    "plt.xticks(rotation=45)\n",
    "plt.show()"
   ]
  }
 ],
 "metadata": {
  "interpreter": {
   "hash": "eee4d3abb82e79a0462123c66a1c264dd48b1bcc93ac942546f5f76001ea26d3"
  },
  "kernelspec": {
   "display_name": "Python 3.9.2 64-bit",
   "language": "python",
   "name": "python3"
  },
  "language_info": {
   "codemirror_mode": {
    "name": "ipython",
    "version": 3
   },
   "file_extension": ".py",
   "mimetype": "text/x-python",
   "name": "python",
   "nbconvert_exporter": "python",
   "pygments_lexer": "ipython3",
   "version": "3.9.2"
  },
  "orig_nbformat": 4
 },
 "nbformat": 4,
 "nbformat_minor": 2
}

{
 "cells": [
  {
   "cell_type": "code",
   "execution_count": null,
   "metadata": {},
   "outputs": [],
   "source": [
    "import pandas as pd\n",
    "import dask.dataframe as dd\n",
    "import matplotlib.pyplot as plt\n",
    "import seaborn as sns\n",
    "import numpy as np"
   ]
  },
  {
   "cell_type": "code",
   "execution_count": null,
   "metadata": {},
   "outputs": [],
   "source": [
    "df = pd.read_csv('data/maindata.csv', dtype={'price_string_unf': 'object'})\n",
    "\n",
    "# Dask is faster for larger datasets but it doesnt show inline output, so i've not used it here\n",
    "daskdf = dd.read_csv('data/maindata.csv', dtype={'price_string_unf': 'object'})"
   ]
  },
  {
   "cell_type": "code",
   "execution_count": null,
   "metadata": {},
   "outputs": [],
   "source": [
    "df.shape"
   ]
  },
  {
   "cell_type": "code",
   "execution_count": null,
   "metadata": {},
   "outputs": [],
   "source": [
    "df.describe()"
   ]
  },
  {
   "cell_type": "markdown",
   "metadata": {},
   "source": [
    "## *Question 1*\n",
    "Products without prices"
   ]
  },
  {
   "cell_type": "code",
   "execution_count": null,
   "metadata": {},
   "outputs": [],
   "source": [
    "df.head()"
   ]
  },
  {
   "cell_type": "code",
   "execution_count": null,
   "metadata": {},
   "outputs": [],
   "source": [
    "# Faster, just count\n",
    "df['price_string'].isna().value_counts()"
   ]
  },
  {
   "cell_type": "code",
   "execution_count": null,
   "metadata": {},
   "outputs": [],
   "source": [
    "# Slower, returns data. This df has all products without price_string\n",
    "noprices = df[df['price_string'].isna()]\n",
    "noprices.shape"
   ]
  },
  {
   "cell_type": "markdown",
   "metadata": {},
   "source": [
    "### There are 8,220,000 products without prices\n",
    "All products without price are stored in noprices."
   ]
  },
  {
   "cell_type": "code",
   "execution_count": 130,
   "metadata": {},
   "outputs": [],
   "source": [
    "num_hasprices = df.shape[0]\n",
    "num_noprices = noprices.shape[0]"
   ]
  },
  {
   "cell_type": "code",
   "execution_count": 134,
   "metadata": {},
   "outputs": [
    {
     "data": {
      "text/plain": [
       "Text(0.5, 1.0, 'Number of products with and without prices')"
      ]
     },
     "execution_count": 134,
     "metadata": {},
     "output_type": "execute_result"
    },
    {
     "data": {
      "image/png": "[encoded data removed]",
      "text/plain": [
       "<Figure size 432x288 with 1 Axes>"
      ]
     },
     "metadata": {
      "needs_background": "light"
     },
     "output_type": "display_data"
    }
   ],
   "source": [
    "sns.barplot(y=[num_hasprices, num_noprices], x=['Have price', 'No price'])\n",
    "plt.ylabel('Count')\n",
    "plt.title(\"Number of products with and without prices\")"
   ]
  },
  {
   "cell_type": "markdown",
   "metadata": {},
   "source": [
    "## *Question 2*\n",
    "Count of products without prices and with prices in each Product Type, Category,\n",
    "Level 1"
   ]
  },
  {
   "cell_type": "markdown",
   "metadata": {},
   "source": [
    "### Product Type"
   ]
  },
  {
   "cell_type": "code",
   "execution_count": null,
   "metadata": {},
   "outputs": [],
   "source": [
    "# Entire dataframe grouped by product type\n",
    "grpby_prodtype = df.groupby('product_type')"
   ]
  },
  {
   "cell_type": "code",
   "execution_count": 173,
   "metadata": {},
   "outputs": [
    {
     "data": {
      "text/plain": [
       "321"
      ]
     },
     "execution_count": 173,
     "metadata": {},
     "output_type": "execute_result"
    }
   ],
   "source": []
  },
  {
   "cell_type": "code",
   "execution_count": 170,
   "metadata": {},
   "outputs": [
    {
     "data": {
      "text/plain": [
       "product_type\n",
       "Q0FUIExJVFRFUg                                  0\n",
       "Q29mZmVlIEJlYW5z                            30000\n",
       "Q29mZmVlIEZpbHRlcnM                             0\n",
       "Q29uZGl0aW9uZXIgSGFpcg                      10000\n",
       "Q29va2llcw                                      0\n",
       "                                            ...  \n",
       "cGV0IEJsYW5rZXQ                             10000\n",
       "cGV0IFN0YWluIGFuZCBvZG9yIGVsaW1pbmF0b3I         0\n",
       "d29tZW5zIE91dGVyd2Vhcg                     130000\n",
       "d29tZW5zIFdhbGxldA                          20000\n",
       "d29tZW5zIHN3ZWF0ZXJz                        30000\n",
       "Name: hasprice, Length: 321, dtype: int64"
      ]
     },
     "execution_count": 170,
     "metadata": {},
     "output_type": "execute_result"
    }
   ],
   "source": [
    "# Number of products which have a price, grouped by product type\n",
    "hasprice_prodtype = grpby_prodtype.count()\n",
    "hasprice_prodtype.rename(columns={\"price_string\": \"hasprice\"}, inplace=True)\n",
    "hasprice_prodtype.hasprice"
   ]
  },
  {
   "cell_type": "code",
   "execution_count": 171,
   "metadata": {},
   "outputs": [
    {
     "data": {
      "text/plain": [
       "product_type\n",
       "Q0FUIExJVFRFUg                             30000\n",
       "Q29mZmVlIEJlYW5z                           50000\n",
       "Q29mZmVlIEZpbHRlcnM                        10000\n",
       "Q29uZGl0aW9uZXIgSGFpcg                     20000\n",
       "Q29va2llcw                                 30000\n",
       "                                           ...  \n",
       "cGV0IEJsYW5rZXQ                            10000\n",
       "cGV0IFN0YWluIGFuZCBvZG9yIGVsaW1pbmF0b3I    10000\n",
       "d29tZW5zIE91dGVyd2Vhcg                     20000\n",
       "d29tZW5zIFdhbGxldA                         10000\n",
       "d29tZW5zIHN3ZWF0ZXJz                       90000\n",
       "Length: 321, dtype: int64"
      ]
     },
     "execution_count": 171,
     "metadata": {},
     "output_type": "execute_result"
    }
   ],
   "source": [
    "# Number of products which dont have a price, grouped by product type\n",
    "totalsize_prodtype = grpby_prodtype.size()\n",
    "noprice_prodtype = totalsize_prodtype - hasprice_prodtype.hasprice\n",
    "noprice_prodtype"
   ]
  },
  {
   "cell_type": "code",
   "execution_count": 198,
   "metadata": {},
   "outputs": [],
   "source": [
    "bruh = pd.DataFrame(grpby_prodtype.groups.keys(), columns=['product_type'])\n",
    "bruh.set_index(['product_type'])\n",
    "# bruh.shape\n",
    "bruh['hasprice'] = hasprice_prodtype.hasprice.values\n",
    "bruh['noprice'] = noprice_prodtype.values"
   ]
  },
  {
   "cell_type": "code",
   "execution_count": 199,
   "metadata": {},
   "outputs": [
    {
     "data": {
      "text/html": [
       "<div>\n",
       "<style scoped>\n",
       "    .dataframe tbody tr th:only-of-type {\n",
       "        vertical-align: middle;\n",
       "    }\n",
       "\n",
       "    .dataframe tbody tr th {\n",
       "        vertical-align: top;\n",
       "    }\n",
       "\n",
       "    .dataframe thead th {\n",
       "        text-align: right;\n",
       "    }\n",
       "</style>\n",
       "<table border=\"1\" class=\"dataframe\">\n",
       "  <thead>\n",
       "    <tr style=\"text-align: right;\">\n",
       "      <th></th>\n",
       "      <th>product_type</th>\n",
       "      <th>hasprice</th>\n",
       "      <th>noprice</th>\n",
       "    </tr>\n",
       "  </thead>\n",
       "  <tbody>\n",
       "    <tr>\n",
       "      <th>0</th>\n",
       "      <td>Q0FUIExJVFRFUg</td>\n",
       "      <td>0</td>\n",
       "      <td>30000</td>\n",
       "    </tr>\n",
       "    <tr>\n",
       "      <th>1</th>\n",
       "      <td>Q29mZmVlIEJlYW5z</td>\n",
       "      <td>30000</td>\n",
       "      <td>50000</td>\n",
       "    </tr>\n",
       "    <tr>\n",
       "      <th>2</th>\n",
       "      <td>Q29mZmVlIEZpbHRlcnM</td>\n",
       "      <td>0</td>\n",
       "      <td>10000</td>\n",
       "    </tr>\n",
       "    <tr>\n",
       "      <th>3</th>\n",
       "      <td>Q29uZGl0aW9uZXIgSGFpcg</td>\n",
       "      <td>10000</td>\n",
       "      <td>20000</td>\n",
       "    </tr>\n",
       "    <tr>\n",
       "      <th>4</th>\n",
       "      <td>Q29va2llcw</td>\n",
       "      <td>0</td>\n",
       "      <td>30000</td>\n",
       "    </tr>\n",
       "    <tr>\n",
       "      <th>...</th>\n",
       "      <td>...</td>\n",
       "      <td>...</td>\n",
       "      <td>...</td>\n",
       "    </tr>\n",
       "    <tr>\n",
       "      <th>316</th>\n",
       "      <td>cGV0IEJsYW5rZXQ</td>\n",
       "      <td>10000</td>\n",
       "      <td>10000</td>\n",
       "    </tr>\n",
       "    <tr>\n",
       "      <th>317</th>\n",
       "      <td>cGV0IFN0YWluIGFuZCBvZG9yIGVsaW1pbmF0b3I</td>\n",
       "      <td>0</td>\n",
       "      <td>10000</td>\n",
       "    </tr>\n",
       "    <tr>\n",
       "      <th>318</th>\n",
       "      <td>d29tZW5zIE91dGVyd2Vhcg</td>\n",
       "      <td>130000</td>\n",
       "      <td>20000</td>\n",
       "    </tr>\n",
       "    <tr>\n",
       "      <th>319</th>\n",
       "      <td>d29tZW5zIFdhbGxldA</td>\n",
       "      <td>20000</td>\n",
       "      <td>10000</td>\n",
       "    </tr>\n",
       "    <tr>\n",
       "      <th>320</th>\n",
       "      <td>d29tZW5zIHN3ZWF0ZXJz</td>\n",
       "      <td>30000</td>\n",
       "      <td>90000</td>\n",
       "    </tr>\n",
       "  </tbody>\n",
       "</table>\n",
       "<p>321 rows × 3 columns</p>\n",
       "</div>"
      ],
      "text/plain": [
       "                                product_type  hasprice  noprice\n",
       "0                             Q0FUIExJVFRFUg         0    30000\n",
       "1                           Q29mZmVlIEJlYW5z     30000    50000\n",
       "2                        Q29mZmVlIEZpbHRlcnM         0    10000\n",
       "3                     Q29uZGl0aW9uZXIgSGFpcg     10000    20000\n",
       "4                                 Q29va2llcw         0    30000\n",
       "..                                       ...       ...      ...\n",
       "316                          cGV0IEJsYW5rZXQ     10000    10000\n",
       "317  cGV0IFN0YWluIGFuZCBvZG9yIGVsaW1pbmF0b3I         0    10000\n",
       "318                   d29tZW5zIE91dGVyd2Vhcg    130000    20000\n",
       "319                       d29tZW5zIFdhbGxldA     20000    10000\n",
       "320                     d29tZW5zIHN3ZWF0ZXJz     30000    90000\n",
       "\n",
       "[321 rows x 3 columns]"
      ]
     },
     "execution_count": 199,
     "metadata": {},
     "output_type": "execute_result"
    }
   ],
   "source": [
    "bruh"
   ]
  },
  {
   "cell_type": "code",
   "execution_count": 202,
   "metadata": {},
   "outputs": [
    {
     "data": {
      "image/png": "[encoded data removed]",
      "text/plain": [
       "<Figure size 432x288 with 1 Axes>"
      ]
     },
     "metadata": {
      "needs_background": "light"
     },
     "output_type": "display_data"
    }
   ],
   "source": [
    "#\n",
    "# sns.barplot(x=bruh.product_type, y=[bruh.hasprice, bruh.noprice], stacked=True)\n",
    "bruh[:50].plot(kind='bar', stacked=True)\n",
    "plt.xticks(rotation=90)\n",
    "plt.xlabel('Product type')\n",
    "plt.ylabel('Count')\n",
    "plt.show()"
   ]
  },
  {
   "cell_type": "markdown",
   "metadata": {},
   "source": [
    "### Category"
   ]
  },
  {
   "cell_type": "code",
   "execution_count": null,
   "metadata": {},
   "outputs": [],
   "source": [
    "# Entire dataframe grouped by category\n",
    "grpby_category = df.groupby('category')"
   ]
  },
  {
   "cell_type": "code",
   "execution_count": null,
   "metadata": {},
   "outputs": [],
   "source": [
    "# Number of products which have a price, grouped by category\n",
    "hasprice_category = df.groupby('category').count()\n",
    "hasprice_category.rename(columns={\"price_string\": \"hasprice\"}, inplace=True)\n",
    "hasprice_category.hasprice"
   ]
  },
  {
   "cell_type": "code",
   "execution_count": null,
   "metadata": {},
   "outputs": [],
   "source": [
    "# Number of products which dont have a price, grouped by category\n",
    "totalsize_category = grpby_category.size()\n",
    "noprice_category =  totalsize_category- hasprice_category.hasprice\n",
    "noprice_category"
   ]
  },
  {
   "cell_type": "markdown",
   "metadata": {},
   "source": [
    "### Level 1\n"
   ]
  },
  {
   "cell_type": "code",
   "execution_count": null,
   "metadata": {},
   "outputs": [],
   "source": [
    "# Entire dataframe grouped by level1\n",
    "grpby_level1 = df.groupby('level_1')\n"
   ]
  },
  {
   "cell_type": "code",
   "execution_count": null,
   "metadata": {},
   "outputs": [],
   "source": [
    "# Number of products which have a price, grouped by level1\n",
    "hasprice_level1 = df.groupby('level_1').count()\n",
    "hasprice_level1.rename(columns={\"price_string\": \"hasprice\"}, inplace=True)\n",
    "hasprice_level1.hasprice"
   ]
  },
  {
   "cell_type": "code",
   "execution_count": null,
   "metadata": {},
   "outputs": [],
   "source": [
    "# Number of products which dont have a price, grouped by level1\n",
    "totalsize_level1 = grpby_level1.size()\n",
    "noprice_level1 = totalsize_level1 - hasprice_level1.hasprice\n",
    "noprice_level1"
   ]
  },
  {
   "cell_type": "markdown",
   "metadata": {},
   "source": [
    "## *Question 3*\n",
    "Correct Product Prices in the correct format (eg: $56) wherever possible and\n",
    "separate them into currency and value columns"
   ]
  },
  {
   "cell_type": "code",
   "execution_count": null,
   "metadata": {},
   "outputs": [],
   "source": [
    "df_with_prices = pd.DataFrame(df['price_string'].dropna())"
   ]
  },
  {
   "cell_type": "code",
   "execution_count": null,
   "metadata": {},
   "outputs": [],
   "source": [
    "# function that converts non-null string values to a $ddd format (d is a digit). If null, returns NaN\n",
    "\n",
    "def add_doll(price):\n",
    "    if pd.isnull(price):\n",
    "        return np.nan\n",
    "    else:\n",
    "        if str(price)[0]!='$':\n",
    "            return '$'+str(price)\n",
    "        return str(price)"
   ]
  },
  {
   "cell_type": "code",
   "execution_count": null,
   "metadata": {},
   "outputs": [],
   "source": [
    "# df_with_prices['price'] = df_with_prices['price_string'].apply(add_doll)"
   ]
  },
  {
   "cell_type": "code",
   "execution_count": null,
   "metadata": {},
   "outputs": [],
   "source": [
    "value_df = df.copy()\n",
    "\n",
    "# Here we drop all NaN values in the price column, but can comment this out if needed\n",
    "\n",
    "value_df = value_df[value_df['price_string'].notna()]"
   ]
  },
  {
   "cell_type": "code",
   "execution_count": null,
   "metadata": {},
   "outputs": [],
   "source": [
    "value_df['currency'] = value_df['price_string'].apply(add_doll)\n",
    "value_df['value'] = value_df['currency'].apply(lambda x: float(str(x).replace('$', '')))"
   ]
  },
  {
   "cell_type": "code",
   "execution_count": null,
   "metadata": {},
   "outputs": [],
   "source": [
    "# This is the original dataframe with columns for currency and value, as per the given instructions\n",
    "value_df.head()"
   ]
  },
  {
   "cell_type": "code",
   "execution_count": null,
   "metadata": {},
   "outputs": [],
   "source": [
    "# Condition that checks if a value has a $ anywhere except the start\n",
    "regex_flag = df['price_string'].str.contains('\\d+\\$\\d*')"
   ]
  },
  {
   "cell_type": "code",
   "execution_count": null,
   "metadata": {},
   "outputs": [],
   "source": [
    "# if there isnt a $, the flag stores NaN. This replaces NaN with false so we can use it as a condition\n",
    "tempe = regex_flag.fillna(False)"
   ]
  },
  {
   "cell_type": "code",
   "execution_count": null,
   "metadata": {},
   "outputs": [],
   "source": [
    "# Returns all rows where $ is present apart from the [0]th position.\n",
    "# No rows are returned, which means all rows are either in $ddd or ddd format\n",
    "# This was just to see if my replacement logic was valid\n",
    "df[tempe]"
   ]
  },
  {
   "cell_type": "code",
   "execution_count": null,
   "metadata": {},
   "outputs": [],
   "source": [
    "# The following lines were for a differently shaped dataframe\n",
    "\n",
    "# df_with_prices['value'] = df_with_prices['price'].apply(lambda x: x.replace('$', ''))\n",
    "# df_with_prices\n",
    "# TODO: Do this with main dataset"
   ]
  },
  {
   "cell_type": "markdown",
   "metadata": {},
   "source": [
    "## Question 4\n",
    "List out the categories with average price of product."
   ]
  },
  {
   "cell_type": "code",
   "execution_count": null,
   "metadata": {},
   "outputs": [],
   "source": [
    "# Create a dataframe that has only categories and price values\n",
    "category_df = value_df[['category', 'value']].copy()\n",
    "category_df.head()\n"
   ]
  },
  {
   "cell_type": "code",
   "execution_count": null,
   "metadata": {},
   "outputs": [],
   "source": [
    "value_grpby_category = category_df.groupby('category')\n",
    "avg_price_by_category = value_grpby_category.mean()\n",
    "avg_price_by_category.rename(columns={'value': 'average_price'}, inplace=True)"
   ]
  },
  {
   "cell_type": "code",
   "execution_count": null,
   "metadata": {},
   "outputs": [],
   "source": [
    "# Dataframe with average price of products by category\n",
    "avg_price_by_category"
   ]
  },
  {
   "cell_type": "code",
   "execution_count": null,
   "metadata": {},
   "outputs": [],
   "source": [
    "# Plotting the avg price per category. Truncated category name to 10 letters to maintain readability. \n",
    "# (not like the category names are readable in any case)\n",
    "\n",
    "sns.barplot(x=avg_price_by_category.index.str.slice(0,10),y=avg_price_by_category.average_price)\n",
    "plt.xticks(rotation=45)\n",
    "plt.show()"
   ]
  },
  {
   "cell_type": "code",
   "execution_count": null,
   "metadata": {},
   "outputs": [],
   "source": []
  }
 ],
 "metadata": {
  "interpreter": {
   "hash": "eee4d3abb82e79a0462123c66a1c264dd48b1bcc93ac942546f5f76001ea26d3"
  },
  "kernelspec": {
   "display_name": "Python 3.9.2 64-bit",
   "language": "python",
   "name": "python3"
  },
  "language_info": {
   "codemirror_mode": {
    "name": "ipython",
    "version": 3
   },
   "file_extension": ".py",
   "mimetype": "text/x-python",
   "name": "python",
   "nbconvert_exporter": "python",
   "pygments_lexer": "ipython3",
   "version": "3.9.2"
  },
  "orig_nbformat": 4
 },
 "nbformat": 4,
 "nbformat_minor": 2
}
